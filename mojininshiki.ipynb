{
 "cells": [
  {
   "cell_type": "code",
   "execution_count": 4,
   "id": "87be6b46",
   "metadata": {},
   "outputs": [
    {
     "data": {
      "image/png": "[encoded data removed]",
      "text/plain": [
       "<Figure size 432x288 with 15 Axes>"
      ]
     },
     "metadata": {
      "needs_background": "light"
     },
     "output_type": "display_data"
    }
   ],
   "source": [
    "import matplotlib.pyplot as plt\n",
    "\n",
    "#手書きデータを読み込む\n",
    "from sklearn import datasets\n",
    "digits=datasets.load_digits()\n",
    "\n",
    "#15個連続で出力する\n",
    "for i in range(15):\n",
    "    plt.subplot(3,5,i+1)\n",
    "    plt.axis(\"off\")\n",
    "    plt.title(str(digits.target[i]))\n",
    "    plt.imshow(digits.images[i],cmap=\"gray\")\n",
    "    \n",
    "plt.show()"
   ]
  },
  {
   "cell_type": "code",
   "execution_count": 8,
   "id": "0926ee9b",
   "metadata": {},
   "outputs": [
    {
     "name": "stdout",
     "output_type": "stream",
     "text": [
      "0.9916666666666667\n"
     ]
    }
   ],
   "source": [
    "from sklearn.model_selection import train_test_split\n",
    "from sklearn import datasets,svm,metrics\n",
    "from sklearn.metrics import accuracy_score\n",
    "import pickle\n",
    "\n",
    "#データを読み込む\n",
    "digits=datasets.load_digits()\n",
    "x=digits.images\n",
    "y=digits.target\n",
    "y=digits.target\n",
    "x=x.reshape((-1,64))#二次元配列を一次元配列に変換\n",
    "\n",
    "#データを学習用とテスト用に分割する\n",
    "x_train,x_test,y_train,y_test=train_test_split(x,y,test_size=0.2)\n",
    "\n",
    "#データを学習\n",
    "clf=svm.SVC()\n",
    "clf.fit(x_train,y_train)\n",
    "\n",
    "#予測して精度を確認する\n",
    "y_pred=clf.predict(x_test)\n",
    "print(accuracy_score(y_test,y_pred))\n",
    "\n",
    "with open(\"digits.pkl\",\"wb\") as fp:\n",
    "    clf=pickle.dump(clf,fp)"
   ]
  },
  {
   "cell_type": "code",
   "execution_count": 14,
   "id": "9e7a0480",
   "metadata": {},
   "outputs": [
    {
     "name": "stdout",
     "output_type": "stream",
     "text": [
      "my3.png=7\n",
      "my5.png=4\n",
      "my8.png=4\n"
     ]
    },
    {
     "data": {
      "image/png": "[encoded data removed]",
      "text/plain": [
       "<Figure size 432x288 with 1 Axes>"
      ]
     },
     "metadata": {
      "needs_background": "light"
     },
     "output_type": "display_data"
    }
   ],
   "source": [
    "import cv2\n",
    "import pickle\n",
    "import matplotlib.pyplot as plt\n",
    "\n",
    "def predict_digit(filename):\n",
    "    #学習済みデータを読み込む\n",
    "    with open(\"digits.pkl\",\"rb\") as fp:\n",
    "        clf=pickle.load(fp)\n",
    "    #自分で用意した手書きの画像ファイルを読み込む\n",
    "    my_img=cv2.imread(filename)\n",
    "    #画像データを学習済みデータに合わせる\n",
    "    my_img=cv2.cvtColor(my_img,cv2.COLOR_BGR2GRAY)\n",
    "    my_img=cv2.resize(my_img,(8,8))\n",
    "    plt.axis(\"off\")\n",
    "    plt.imshow(my_img)\n",
    "    my_img=15-my_img//16 #白黒反転する\n",
    "    #二次元を一次元に変換\n",
    "    my_img=my_img.reshape((-1,64))\n",
    "    #データを予測\n",
    "    res=clf.predict(my_img)\n",
    "    return res[0]\n",
    "\n",
    "#画像ファイルを指定して実行\n",
    "n=predict_digit(\"my3.png\")\n",
    "print(\"my3.png=\"+str(n))\n",
    "n=predict_digit(\"my5.png\")\n",
    "print(\"my5.png=\"+str(n))\n",
    "n=predict_digit(\"my8.png\")\n",
    "print(\"my8.png=\"+str(n))"
   ]
  },
  {
   "cell_type": "code",
   "execution_count": null,
   "id": "6246969b",
   "metadata": {},
   "outputs": [],
   "source": []
  }
 ],
 "metadata": {
  "kernelspec": {
   "display_name": "Python 3",
   "language": "python",
   "name": "python3"
  },
  "language_info": {
   "codemirror_mode": {
    "name": "ipython",
    "version": 3
   },
   "file_extension": ".py",
   "mimetype": "text/x-python",
   "name": "python",
   "nbconvert_exporter": "python",
   "pygments_lexer": "ipython3",
   "version": "3.8.8"
  }
 },
 "nbformat": 4,
 "nbformat_minor": 5
}
